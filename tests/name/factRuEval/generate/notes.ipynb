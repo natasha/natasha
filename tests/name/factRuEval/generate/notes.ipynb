{
 "cells": [
  {
   "cell_type": "code",
   "execution_count": 1,
   "metadata": {
    "collapsed": true
   },
   "outputs": [],
   "source": [
    "# !git clone https://github.com/dialogue-evaluation/factRuEval-2016.git"
   ]
  },
  {
   "cell_type": "code",
   "execution_count": 2,
   "metadata": {
    "collapsed": true
   },
   "outputs": [],
   "source": [
    "# ls factRuEval-2016/devset | head"
   ]
  },
  {
   "cell_type": "code",
   "execution_count": 3,
   "metadata": {
    "collapsed": true
   },
   "outputs": [],
   "source": [
    "# !head factRuEval-2016/devset/book_100.coref"
   ]
  },
  {
   "cell_type": "code",
   "execution_count": 4,
   "metadata": {
    "collapsed": true
   },
   "outputs": [],
   "source": [
    "%run -n main.py\n",
    "tests = []\n",
    "for id in list_factru_ids():\n",
    "    text = load_factru_text(id)\n",
    "    items = []\n",
    "    for group in load_factru(id):\n",
    "        for item in group.items:\n",
    "            if isinstance(item, Name):\n",
    "                items.append(item)\n",
    "    tests.append(Test(text, items))"
   ]
  },
  {
   "cell_type": "code",
   "execution_count": 5,
   "metadata": {
    "scrolled": false
   },
   "outputs": [
    {
     "data": {
      "application/vnd.jupyter.widget-view+json": {
       "model_id": "d76cd804235646abaa5c414d73c2d968"
      }
     },
     "metadata": {},
     "output_type": "display_data"
    },
    {
     "name": "stdout",
     "output_type": "stream",
     "text": [
      "\n"
     ]
    }
   ],
   "source": [
    "%run -n main.py\n",
    "data = []\n",
    "extractor = NamesExtractor()\n",
    "for test in log_progress(tests):\n",
    "    for line, etalon in split_test(test):\n",
    "        if not etalon:\n",
    "            continue\n",
    "        matches = extractor(line)\n",
    "        etalon = sorted(_.span for _ in etalon)\n",
    "        guess = sorted(_.span for _ in matches)\n",
    "        if etalon == guess:\n",
    "            items = [\n",
    "                [line[start:stop], start, stop]\n",
    "                for start, stop in guess\n",
    "            ]\n",
    "            data.append([line, items])"
   ]
  },
  {
   "cell_type": "code",
   "execution_count": 61,
   "metadata": {
    "collapsed": true
   },
   "outputs": [],
   "source": [
    "dump_json(data, '../tests.json')"
   ]
  }
 ],
 "metadata": {
  "kernelspec": {
   "display_name": "mypy3",
   "language": "python",
   "name": "mypy3"
  },
  "language_info": {
   "codemirror_mode": {
    "name": "ipython",
    "version": 3
   },
   "file_extension": ".py",
   "mimetype": "text/x-python",
   "name": "python",
   "nbconvert_exporter": "python",
   "pygments_lexer": "ipython3",
   "version": "3.5.1"
  }
 },
 "nbformat": 4,
 "nbformat_minor": 2
}
